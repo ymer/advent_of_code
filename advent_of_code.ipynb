{
 "cells": [
  {
   "cell_type": "markdown",
   "metadata": {},
   "source": [
    "# Advent of Code"
   ]
  },
  {
   "cell_type": "code",
   "execution_count": 1,
   "metadata": {},
   "outputs": [],
   "source": [
    "using Pkg\n",
    "using DelimitedFiles\n",
    "using Pipe\n",
    "using BenchmarkTools"
   ]
  },
  {
   "cell_type": "markdown",
   "metadata": {},
   "source": [
    "### Day 1\n",
    "\n",
    "https://adventofcode.com/2021/day/1\n",
    "\n",
    "1. Count the number of times a depth measurement increases from the previous measurement.\n",
    "\n",
    "2. Count the number of times the sum of measurements in this sliding window increases from the previous sum."
   ]
  },
  {
   "cell_type": "code",
   "execution_count": 2,
   "metadata": {},
   "outputs": [
    {
     "name": "stdout",
     "output_type": "stream",
     "text": [
      "  103.400 μs (4001 allocations: 332.39 KiB)\n"
     ]
    },
    {
     "data": {
      "text/plain": [
       "(1713, 1734)"
      ]
     },
     "execution_count": 2,
     "metadata": {},
     "output_type": "execute_result"
    }
   ],
   "source": [
    "input = parse.(Int, eachline(\"input01\"))\n",
    "\n",
    "part1(input) = count(diff(input) .> 0)\n",
    "part2(input) = count(i -> sum(input[i+1:i+3]) > sum(input[i:i+2]), 1:length(input)-3)\n",
    "\n",
    "@btime part1(input), part2(input) "
   ]
  },
  {
   "cell_type": "markdown",
   "metadata": {},
   "source": [
    "### Day 2\n",
    "\n",
    "https://adventofcode.com/2021/day/2\n",
    "\n",
    "1. Calculate the horizontal position and depth you would have after following the planned course.\n",
    "\n",
    "2. Using this new interpretation of the commands, calculate the horizontal position and depth you would have after following the planned course."
   ]
  },
  {
   "cell_type": "code",
   "execution_count": 3,
   "metadata": {},
   "outputs": [
    {
     "name": "stdout",
     "output_type": "stream",
     "text": [
      "  122.400 μs (1906 allocations: 29.80 KiB)\n"
     ]
    },
    {
     "data": {
      "text/plain": [
       "(2322630, 2105273490)"
      ]
     },
     "execution_count": 3,
     "metadata": {},
     "output_type": "execute_result"
    }
   ],
   "source": [
    "moves = readdlm(\"input02\")\n",
    "\n",
    "function part1(moves)   \n",
    "    horisontal = 0; depth = 0\n",
    "    for move in eachrow(moves)\n",
    "        if move[1] == \"down\"\n",
    "            depth += move[2]\n",
    "        elseif move[1] == \"up\"; \n",
    "            depth -= move[2]\n",
    "        elseif move[1] == \"forward\"\n",
    "            horisontal += move[2]\n",
    "        end\n",
    "    end\n",
    "    horisontal * depth\n",
    "end\n",
    "\n",
    "function part2(moves)\n",
    "    aim = 0; horisontal = 0; depth = 0\n",
    "    for move in eachrow(moves)\n",
    "        if move[1] == \"down\"\n",
    "            aim += move[2]\n",
    "        elseif move[1] == \"up\"\n",
    "            aim -= move[2]\n",
    "        elseif move[1] == \"forward\"\n",
    "            horisontal += move[2]\n",
    "            depth += move[2] * aim\n",
    "        end\n",
    "    end\n",
    "    horisontal * depth\n",
    "end\n",
    "\n",
    "@btime part1(moves), part2(moves)"
   ]
  },
  {
   "cell_type": "markdown",
   "metadata": {},
   "source": [
    "### Day 3\n",
    "\n",
    "https://adventofcode.com/2021/day/3\n",
    "\n",
    "1. Use the binary numbers in your diagnostic report to calculate the gamma rate and epsilon rate, then multiply them together. What is the power consumption of the submarine?\n",
    "\n",
    "2. Use the binary numbers in your diagnostic report to calculate the oxygen generator rating and CO2 scrubber rating, then multiply them together. What is the life support rating of the submarine??"
   ]
  },
  {
   "cell_type": "code",
   "execution_count": 4,
   "metadata": {},
   "outputs": [
    {
     "name": "stdout",
     "output_type": "stream",
     "text": [
      "  222.700 μs (1336 allocations: 377.75 KiB)\n"
     ]
    },
    {
     "data": {
      "text/plain": [
       "(3309596, 11524610)"
      ]
     },
     "execution_count": 4,
     "metadata": {},
     "output_type": "execute_result"
    }
   ],
   "source": [
    "report = @pipe readlines(\"input03\") .|> collect .|> parse.(Int, _) |> \n",
    "    hcat(_...) |> permutedims\n",
    "\n",
    "to_decimal(v) = @pipe v |> join |> parse(Int, _, base = 2)\n",
    "flip(i) = i == 1 ? 0 : 1\n",
    "find_most_common(v) = @pipe median(v, dims=1) |> ceil.(Int, _)\n",
    "\n",
    "function part1(report)\n",
    "    γ = find_most_common(report)\n",
    "    ε = flip.(γ)\n",
    "\n",
    "    (γ, ε) .|> to_decimal |> prod\n",
    "end\n",
    "    \n",
    "function part2(report)\n",
    "    function f(r, i, use_least_common)\n",
    "        size(r, 1) == 1 && return r\n",
    "        val = find_most_common(r[:, i])\n",
    "        if use_least_common; val = flip(val); end\n",
    "        # select all the rows that have the most / least common number, \n",
    "        # and advance the recursion by one column\n",
    "        f(r[r[:, i] .== val, :], i +1, use_least_common)\n",
    "    end\n",
    "\n",
    "    γ = f(report, 1, false)\n",
    "    ε = f(report, 1, true)\n",
    "\n",
    "    (γ, ε) .|> to_decimal |> prod\n",
    "end\n",
    "    \n",
    "@btime part1(report), part2(report)"
   ]
  },
  {
   "cell_type": "markdown",
   "metadata": {},
   "source": [
    "### Day 4\n",
    "\n",
    "https://adventofcode.com/2021/day/4\n",
    "\n",
    "1. To guarantee victory against the giant squid, figure out which board will win first. What will your final score be if you choose that board?\n",
    "\n",
    "2. Figure out which board will win last. Once it wins, what would its final score be?"
   ]
  },
  {
   "cell_type": "code",
   "execution_count": 5,
   "metadata": {},
   "outputs": [
    {
     "name": "stdout",
     "output_type": "stream",
     "text": [
      "  2.739 ms (60641 allocations: 2.44 MiB)\n"
     ]
    },
    {
     "data": {
      "text/plain": [
       "2-element Vector{Int64}:\n",
       " 11774\n",
       "  4495"
      ]
     },
     "execution_count": 5,
     "metadata": {},
     "output_type": "execute_result"
    }
   ],
   "source": [
    "function read_input(input)\n",
    "    input = readlines(input)\n",
    "    numbers = @pipe input[1] |> split(_, \",\") |> parse.(Int, _)\n",
    "\n",
    "    boards = []; line = 2\n",
    "    while line <= length(input)\n",
    "        @pipe [input[line + i] for i in 1:5] .|> \n",
    "            split |> hcat(_...) |> permutedims |> # changes data to 2-dimensional array\n",
    "            parse.(Int, _) |>\n",
    "            push!(boards, _)\n",
    "        line += 6\n",
    "    end\n",
    "    \n",
    "    boards, numbers\n",
    "end\n",
    "    \n",
    "check_if_win(m) = any(any(all(i -> i == false, m, dims = dim)) for dim in 1:2)\n",
    "\n",
    "function get_win_sum(numbers, board)\n",
    "    # The unmarked array keeps track of which spaces on the boards are unmarked \n",
    "    # If a number is placed on tile on a board, set the unmarked value to \n",
    "    # false on the corresponding unmarked array and tile\n",
    "    unmarked = trues(size(board))\n",
    "    for (i, n) in enumerate(numbers)\n",
    "        unmarked = (board .!= n) .* unmarked\n",
    "        check_if_win(unmarked) && return(i, sum(board .* unmarked) * n)\n",
    "    end\n",
    "end\n",
    "\n",
    "boards, numbers = read_input(\"input04\")\n",
    "\n",
    "@btime @pipe boards .|> get_win_sum(numbers, _) |>\n",
    "    sort(_)[[1, end]] |>\n",
    "    getindex.(_, 2)"
   ]
  },
  {
   "cell_type": "markdown",
   "metadata": {},
   "source": [
    "### Day 5\n",
    "\n",
    "https://adventofcode.com/2021/day/5\n",
    "\n",
    "1. Consider only horizontal and vertical lines. At how many points do at least two lines overlap?\n",
    "\n",
    "2. Consider all of the lines. At how many points do at least two lines overlap?"
   ]
  },
  {
   "cell_type": "code",
   "execution_count": 6,
   "metadata": {},
   "outputs": [
    {
     "name": "stdout",
     "output_type": "stream",
     "text": [
      "  2.618 ms (5014 allocations: 6.20 MiB)\n"
     ]
    },
    {
     "data": {
      "text/plain": [
       "(5197, 18605)"
      ]
     },
     "execution_count": 6,
     "metadata": {},
     "output_type": "execute_result"
    }
   ],
   "source": [
    "lines = @pipe readlines(\"input05\") |>\n",
    "    split.(_, r\",| -> \") |>\n",
    "    # add one to each number to accomodate Julia's 1 based arrays\n",
    "    map.(line -> parse.(Int, line) +1, _)\n",
    "\n",
    "# the size of the diagram the lines are drawn on\n",
    "dim = maximum(hcat(lines...))\n",
    "    \n",
    "# step depends on whether you draw from lower values to higher, or from higher values to lower\n",
    "get_range(c) = range(c[1], c[2], step = c[1] < c[2] ? 1 : -1)\n",
    "\n",
    "function count_overlaps(lines, dim, use_diagonals)\n",
    "    diagram = zeros(Int16, dim, dim)\n",
    "    for line in lines\n",
    "        range_x = get_range(line[[1,3]])\n",
    "        range_y = get_range(line[[2,4]])\n",
    "            \n",
    "        if (length(range_x) == 1 || length(range_y) == 1) # draw straight lines\n",
    "            diagram[range_x, range_y] .+= 1\n",
    "        elseif use_diagonals # draw diagonal lines\n",
    "            diagram[[CartesianIndex(elem) for elem in zip(range_x, range_y)]] .+= 1\n",
    "        end\n",
    "    end\n",
    "    count(diagram .> 1)\n",
    "end\n",
    "\n",
    "@btime count_overlaps(lines, dim, false), count_overlaps(lines, dim, true)"
   ]
  },
  {
   "cell_type": "markdown",
   "metadata": {},
   "source": [
    "### Day 6\n",
    "\n",
    "https://adventofcode.com/2021/day/6\n",
    "\n",
    "1. How many lanternfish would there be after 80 days?\n",
    "\n",
    "2. How many lanternfish would there be after 256 days?"
   ]
  },
  {
   "cell_type": "code",
   "execution_count": 7,
   "metadata": {},
   "outputs": [
    {
     "name": "stdout",
     "output_type": "stream",
     "text": [
      "  1.185 ms (27973 allocations: 678.62 KiB)\n"
     ]
    },
    {
     "data": {
      "text/plain": [
       "(387413, 1738377086345)"
      ]
     },
     "execution_count": 7,
     "metadata": {},
     "output_type": "execute_result"
    }
   ],
   "source": [
    "using OffsetArrays\n",
    "using StatsBase: counts\n",
    "O = OffsetArray\n",
    "\n",
    "🐟 = @pipe readline(\"input06\") |> split(_, ',') |> parse.(Int, _) |>\n",
    "    counts(_, 0:8) |>\n",
    "    O(_, 0:8)\n",
    "\n",
    "function count_fish(🐟, days)\n",
    "    for day in 1:days\n",
    "        🐟 = O([🐟[1:6];  🐟[7] + 🐟[0]; 🐟[8]; 🐟[0]], 0:8)\n",
    "    end\n",
    "    sum(🐟)\n",
    "end\n",
    "\n",
    "@btime count_fish(🐟, 80), count_fish(🐟, 256)"
   ]
  },
  {
   "cell_type": "markdown",
   "metadata": {},
   "source": [
    "### Day 7\n",
    "\n",
    "https://adventofcode.com/2021/day/7\n",
    "\n",
    "1. Determine the horizontal position that the crabs can align to using the least fuel possible. How much fuel must they spend to align to that position?\n",
    "\n",
    "2. With updated fuel calculations"
   ]
  },
  {
   "cell_type": "code",
   "execution_count": 8,
   "metadata": {},
   "outputs": [
    {
     "name": "stdout",
     "output_type": "stream",
     "text": [
      "  15.502 ms (17006 allocations: 8.18 MiB)\n"
     ]
    },
    {
     "data": {
      "text/plain": [
       "(349812, 99763899)"
      ]
     },
     "execution_count": 8,
     "metadata": {},
     "output_type": "execute_result"
    }
   ],
   "source": [
    "input = @pipe readline(\"input07\") |> split(_, ',') |> parse.(Int, _)\n",
    "    \n",
    "part1(input) = @pipe input .- median(input) .|> abs |> sum |> trunc(Int, _)\n",
    "\n",
    "cost(position) = @pipe input .|> _-position .|> abs .|> binomial(_+1, 2) |> sum\n",
    "part2(input) = minimum(cost, 1:length(input))\n",
    "\n",
    "@btime part1(input), part2(input)"
   ]
  },
  {
   "cell_type": "markdown",
   "metadata": {},
   "source": [
    "### Day 8\n",
    "\n",
    "https://adventofcode.com/2021/day/8\n",
    "\n",
    "1. In the output values, how many times do digits 1, 4, 7, or 8 appear?\n",
    "\n",
    "2. For each entry, determine all of the wire/segment connections and decode the four-digit output values. What do you get if you add up all of the output values?"
   ]
  },
  {
   "cell_type": "code",
   "execution_count": 9,
   "metadata": {},
   "outputs": [
    {
     "ename": "LoadError",
     "evalue": "KeyError: key 10 not found",
     "output_type": "error",
     "traceback": [
      "KeyError: key 10 not found",
      "",
      "Stacktrace:",
      "  [1] getindex",
      "    @ .\\dict.jl:481 [inlined]",
      "  [2] get_entry_value(patterns::Vector{Vector{SubString{String}}}, output_values::Vector{Vector{SubString{String}}})",
      "    @ Main .\\In[9]:10",
      "  [3] part2(patterns::Vector{Vector{SubString{String}}}, output_values::Vector{Vector{SubString{String}}})",
      "    @ Main .\\In[9]:47",
      "  [4] var\"##core#338\"()",
      "    @ Main C:\\Users\\JOPA\\.julia\\packages\\BenchmarkTools\\SnZV6\\src\\execution.jl:483",
      "  [5] var\"##sample#339\"(::Tuple{}, __params::BenchmarkTools.Parameters)",
      "    @ Main C:\\Users\\JOPA\\.julia\\packages\\BenchmarkTools\\SnZV6\\src\\execution.jl:489",
      "  [6] _run(b::BenchmarkTools.Benchmark, p::BenchmarkTools.Parameters; verbose::Bool, pad::String, kwargs::Base.Pairs{Symbol, Integer, NTuple{4, Symbol}, NamedTuple{(:samples, :evals, :gctrial, :gcsample), Tuple{Int64, Int64, Bool, Bool}}})",
      "    @ BenchmarkTools C:\\Users\\JOPA\\.julia\\packages\\BenchmarkTools\\SnZV6\\src\\execution.jl:99",
      "  [7] #invokelatest#2",
      "    @ .\\essentials.jl:718 [inlined]",
      "  [8] #run_result#45",
      "    @ C:\\Users\\JOPA\\.julia\\packages\\BenchmarkTools\\SnZV6\\src\\execution.jl:34 [inlined]",
      "  [9] run(b::BenchmarkTools.Benchmark, p::BenchmarkTools.Parameters; progressid::Nothing, nleaves::Float64, ndone::Float64, kwargs::Base.Pairs{Symbol, Integer, NTuple{5, Symbol}, NamedTuple{(:verbose, :samples, :evals, :gctrial, :gcsample), Tuple{Bool, Int64, Int64, Bool, Bool}}})",
      "    @ BenchmarkTools C:\\Users\\JOPA\\.julia\\packages\\BenchmarkTools\\SnZV6\\src\\execution.jl:117",
      " [10] #warmup#54",
      "    @ C:\\Users\\JOPA\\.julia\\packages\\BenchmarkTools\\SnZV6\\src\\execution.jl:169 [inlined]",
      " [11] warmup(item::BenchmarkTools.Benchmark)",
      "    @ BenchmarkTools C:\\Users\\JOPA\\.julia\\packages\\BenchmarkTools\\SnZV6\\src\\execution.jl:169",
      " [12] top-level scope",
      "    @ C:\\Users\\JOPA\\.julia\\packages\\BenchmarkTools\\SnZV6\\src\\execution.jl:569",
      " [13] eval",
      "    @ .\\boot.jl:373 [inlined]",
      " [14] include_string(mapexpr::typeof(REPL.softscope), mod::Module, code::String, filename::String)",
      "    @ Base .\\loading.jl:1196"
     ]
    }
   ],
   "source": [
    "input = split.(readlines(\"input08\"), \" | \")\n",
    "patterns = getindex.(input, 1) .|> split\n",
    "output_values = getindex.(input, 2) .|> split\n",
    "\n",
    "function get_entry_value(patterns, output_values)\n",
    "\n",
    "    # A dictionary with length of pattern as key, and the patterns with that length as values\n",
    "    d = Dict(i => [] for i in 1:8)\n",
    "    for p in patterns\n",
    "        push!(d[length(p)], Set(p))\n",
    "    end\n",
    "\n",
    "    find_fives = function(s, d)\n",
    "        if d[2][1] ⊆ s; 3\n",
    "        elseif length(intersect(s, d[4][1])) == 2; 2\n",
    "        else; 5; end\n",
    "    end\n",
    "\n",
    "    find_sixes = function(s, d)\n",
    "        if d[4][1] ⊆ s; 9\n",
    "        elseif d[2][1] ⊆ s; 0\n",
    "        else; 6; end\n",
    "    end\n",
    "\n",
    "    dd = Dict(\n",
    "        # These respond to a unique number of segments, so they each encode a unique digit\n",
    "        d[2][1] => 1,\n",
    "        d[3][1] => 7,\n",
    "        d[4][1] => 4,\n",
    "        d[7][1] => 8,\n",
    "        # These have 3 with the same number of segments, so we have to use additional deduction\n",
    "        d[5][1] => find_fives(d[5][1], d),\n",
    "        d[5][2] => find_fives(d[5][2], d),\n",
    "        d[5][3] => find_fives(d[5][3], d),\n",
    "        d[6][1] => find_sixes(d[6][1], d),\n",
    "        d[6][2] => find_sixes(d[6][2], d),\n",
    "        d[6][3] => find_sixes(d[6][3], d))\n",
    "\n",
    "    @pipe [dd[Set(elem)] for elem in output_values] |>\n",
    "        parse(Int, join(_))\n",
    "end\n",
    "\n",
    "part1(output_values) = @pipe output_values |> \n",
    "    (length(elem) for row in _ for elem in row) |>\n",
    "    count(in((2,3,4,7)), _)\n",
    "\n",
    "part2(patterns, output_values) = get_entry_value(patterns, output_values) |> sum\n",
    "\n",
    "@btime part1(output_values), part2(patterns, output_values)"
   ]
  },
  {
   "cell_type": "markdown",
   "metadata": {},
   "source": [
    "### Day 9\n",
    "\n",
    "https://adventofcode.com/2021/day/9\n",
    "\n",
    "1. What is the sum of the risk levels of all low points on your heightmap?\n",
    "\n",
    "2. What do you get if you multiply together the sizes of the three largest basins?"
   ]
  },
  {
   "cell_type": "code",
   "execution_count": 10,
   "metadata": {},
   "outputs": [
    {
     "name": "stdout",
     "output_type": "stream",
     "text": [
      "  18.150 ms (163337 allocations: 8.82 MiB)\n"
     ]
    },
    {
     "data": {
      "text/plain": [
       "(539, 1)"
      ]
     },
     "execution_count": 10,
     "metadata": {},
     "output_type": "execute_result"
    }
   ],
   "source": [
    "read_matrix(input) = @pipe readlines(input) .|> split(_, \"\") .|> \n",
    "    parse.(Int, _) |> hcat(_...) |> permutedims\n",
    "\n",
    "moves = CartesianIndex.([(1,0), (0,1), (-1, 0), (0, -1)])\n",
    "adjacent(p, board) = @pipe moves .|> p + _ |> filter(in(board), _)\n",
    "larger_than_neighbours(p, M, board) = all(adj -> M[adj] > M[p], adjacent(p, board))\n",
    "minimum_points(M, board) = filter(p -> larger_than_neighbours(p, M, board), board)\n",
    "\n",
    "M = read_matrix(\"input09\")\n",
    "board = CartesianIndices(M)\n",
    "\n",
    "part1(M, board) = sum(p -> M[p] + 1, minimum_points(M, board))\n",
    "\n",
    "function part2(M, board)\n",
    "    \n",
    "    function get_basin(p, M)    \n",
    "        basin = Set([p])\n",
    "        for adj in adjacent(p, M)\n",
    "            if M[adj] > M[p] && M[adj] < 9\n",
    "                basin = basin ∪ get_basin(adj, M)\n",
    "            end\n",
    "        end\n",
    "        basin\n",
    "    end\n",
    "\n",
    "    @pipe (get_basin(min, M) for min in minimum_points(M, board)) .|>\n",
    "        length |> sort |> _[end-2:end] |> prod\n",
    "end\n",
    "\n",
    "@btime part1(M, board), part2(M, board)"
   ]
  },
  {
   "cell_type": "markdown",
   "metadata": {},
   "source": [
    "### Day 10\n",
    "\n",
    "https://adventofcode.com/2021/day/10\n",
    "\n",
    "1.Find the first illegal character in each corrupted line of the navigation subsystem. What is the total syntax error score for those errors?\n",
    "\n",
    "2. What do you get if you multiply together the sizes of the three largest basins?"
   ]
  },
  {
   "cell_type": "code",
   "execution_count": 11,
   "metadata": {},
   "outputs": [
    {
     "name": "stderr",
     "output_type": "stream",
     "text": [
      "\u001b[32m\u001b[1m    Updating\u001b[22m\u001b[39m registry at `C:\\Users\\JOPA\\.julia\\registries\\JuliaComputingRegistry`\n",
      "\u001b[32m\u001b[1m    Updating\u001b[22m\u001b[39m registry at `C:\\Users\\JOPA\\.julia\\registries\\General.toml`\n",
      "\u001b[32m\u001b[1m   Resolving\u001b[22m\u001b[39m package versions...\n",
      "\u001b[32m\u001b[1m  No Changes\u001b[22m\u001b[39m to `C:\\Users\\JOPA\\.julia\\environments\\v1.7\\Project.toml`\n",
      "\u001b[32m\u001b[1m  No Changes\u001b[22m\u001b[39m to `C:\\Users\\JOPA\\.julia\\environments\\v1.7\\Manifest.toml`\n"
     ]
    }
   ],
   "source": [
    "Pkg.add(\"Multibreak\")"
   ]
  },
  {
   "cell_type": "code",
   "execution_count": 12,
   "metadata": {},
   "outputs": [
    {
     "name": "stdout",
     "output_type": "stream",
     "text": [
      "  418.400 μs (1287 allocations: 399.27 KiB)\n"
     ]
    },
    {
     "data": {
      "text/plain": [
       "(265527, 3969823589)"
      ]
     },
     "execution_count": 12,
     "metadata": {},
     "output_type": "execute_result"
    }
   ],
   "source": [
    "using DataStructures: Stack\n",
    "using Multibreak\n",
    "\n",
    "input = readlines(\"input10\")\n",
    "\n",
    "corrupted_scoring = Dict(')' => 3, ']' => 57,'}' => 1197, '>' => 25137)\n",
    "completion_scoring = Dict('(' => 1, '[' => 2,'{' => 3, '<' => 4)\n",
    "pairs = Dict(')' => '(', ']' => '[','}' => '{', '>' => '<')\n",
    "openers = values(pairs)\n",
    "\n",
    "function score_completion(stack)\n",
    "    score = 0\n",
    "    for elem in stack\n",
    "        score = score * 5 + completion_scoring[elem]\n",
    "    end\n",
    "    score\n",
    "end\n",
    "\n",
    "function part1_2(input)\n",
    "    corrupted_score = 0; completion_scores = []\n",
    "    @multibreak for line in input\n",
    "        stack = Stack{Char}()\n",
    "        for char in line\n",
    "            if char in openers\n",
    "                push!(stack, char)\n",
    "            else\n",
    "                if pairs[char] != pop!(stack)\n",
    "                    corrupted_score += corrupted_scoring[char]\n",
    "                    break; continue\n",
    "                end\n",
    "            end\n",
    "        end\n",
    "        push!(completion_scores, score_completion(stack))\n",
    "    end\n",
    "    corrupted_score, round(Int, median(completion_scores))\n",
    "end\n",
    "\n",
    "@btime part1_2(input)"
   ]
  },
  {
   "cell_type": "markdown",
   "metadata": {},
   "source": [
    "### Day 11\n",
    "\n",
    "https://adventofcode.com/2021/day/11\n",
    "\n",
    "1. How many total flashes are there after 100 steps?\n",
    "\n",
    "2. What is the first step during which all octopuses flash?"
   ]
  },
  {
   "cell_type": "code",
   "execution_count": 13,
   "metadata": {},
   "outputs": [
    {
     "name": "stdout",
     "output_type": "stream",
     "text": [
      "  2.283 ms (29256 allocations: 1.33 MiB)\n"
     ]
    },
    {
     "data": {
      "text/plain": [
       "(1000, 10)"
      ]
     },
     "execution_count": 13,
     "metadata": {},
     "output_type": "execute_result"
    }
   ],
   "source": [
    "CI = CartesianIndex; It = Iterators\n",
    "M = mapreduce(l -> parse.(Int, collect(l))', vcat, eachline(\"input11\"))\n",
    "cavern = CartesianIndices(M)\n",
    "\n",
    "adj = setdiff(CI(-1,-1):CI(1,1), (CI(0,0), ))\n",
    "\n",
    "function step!(M, cavern)\n",
    "    M .+= 1\n",
    "    to_flash = Set(cavern[M .> 9])\n",
    "    flashed = Set{CI{2}}()\n",
    "    while !isempty(to_flash)\n",
    "        flash = pop!(to_flash)\n",
    "        push!(flashed, flash)\n",
    "        for 🐙 in [flash + a for a in adj if flash + a ∈ cavern]\n",
    "            M[🐙] += 1\n",
    "            M[🐙] > 9 && 🐙 ∉ flashed && push!(to_flash, 🐙)\n",
    "        end\n",
    "    end\n",
    "    M[collect(flashed)] .= 0\n",
    "    length(flashed)\n",
    "end\n",
    "\n",
    "part1(M) = sum(step!(M, cavern) for _ in 1:100)\n",
    "\n",
    "part2(M) = maximum(It.takewhile(_ -> step!(M, cavern) != 100, It.countfrom(1))) +1\n",
    "\n",
    "@btime part1(copy(M)), part2(M)"
   ]
  }
 ],
 "metadata": {
  "kernelspec": {
   "display_name": "Julia 1.7.0",
   "language": "julia",
   "name": "julia-1.7"
  },
  "language_info": {
   "file_extension": ".jl",
   "mimetype": "application/julia",
   "name": "julia",
   "version": "1.7.0"
  }
 },
 "nbformat": 4,
 "nbformat_minor": 5
}
